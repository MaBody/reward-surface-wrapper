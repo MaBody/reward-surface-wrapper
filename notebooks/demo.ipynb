{
 "cells": [
  {
   "cell_type": "code",
   "execution_count": null,
   "id": "d690b9cd",
   "metadata": {},
   "outputs": [],
   "source": [
    "%load_ext autoreload\n",
    "%autoreload 2\n",
    "from stable_baselines3 import PPO\n",
    "from stable_baselines3.common.base_class import BaseAlgorithm\n",
    "from stable_baselines3.common.monitor import Monitor\n",
    "from wrapper.agent_sb import SB3Wrapper\n",
    "from stable_baselines3.common.callbacks import CheckpointCallback\n",
    "from wrapper import ROOT\n",
    "from wrapper.training import EvalCheckpointCallback\n",
    "import gymnasium as gym\n",
    "import numpy as np \n",
    "\n",
    "env = gym.make(\"InvertedDoublePendulum-v5\")\n",
    "exp_tag = \"rl_test\"\n",
    "exp_dir = ROOT / \"runs\" / exp_tag\n",
    "log_dir = exp_dir / \".logs\""
   ]
  },
  {
   "cell_type": "code",
   "execution_count": 13,
   "id": "d66d4b8d",
   "metadata": {},
   "outputs": [
    {
     "ename": "KeyboardInterrupt",
     "evalue": "",
     "output_type": "error",
     "traceback": [
      "\u001b[0;31m---------------------------------------------------------------------------\u001b[0m",
      "\u001b[0;31mKeyboardInterrupt\u001b[0m                         Traceback (most recent call last)",
      "Cell \u001b[0;32mIn[13], line 9\u001b[0m\n\u001b[1;32m      1\u001b[0m callback \u001b[38;5;241m=\u001b[39m EvalCheckpointCallback(\n\u001b[1;32m      2\u001b[0m     env\u001b[38;5;241m=\u001b[39menv,\n\u001b[1;32m      3\u001b[0m     save_freq\u001b[38;5;241m=\u001b[39m\u001b[38;5;241m10000\u001b[39m,\n\u001b[0;32m   (...)\u001b[0m\n\u001b[1;32m      6\u001b[0m     verbose\u001b[38;5;241m=\u001b[39m\u001b[38;5;241m1\u001b[39m,\n\u001b[1;32m      7\u001b[0m )\n\u001b[0;32m----> 9\u001b[0m agent \u001b[38;5;241m=\u001b[39m \u001b[43mPPO\u001b[49m\u001b[43m(\u001b[49m\u001b[38;5;124;43m\"\u001b[39;49m\u001b[38;5;124;43mMlpPolicy\u001b[39;49m\u001b[38;5;124;43m\"\u001b[39;49m\u001b[43m,\u001b[49m\u001b[43m \u001b[49m\u001b[43menv\u001b[49m\u001b[43m)\u001b[49m\u001b[38;5;241;43m.\u001b[39;49m\u001b[43mlearn\u001b[49m\u001b[43m(\u001b[49m\u001b[38;5;241;43m100000\u001b[39;49m\u001b[43m,\u001b[49m\u001b[43m \u001b[49m\u001b[43mcallback\u001b[49m\u001b[38;5;241;43m=\u001b[39;49m\u001b[43mcallback\u001b[49m\u001b[43m)\u001b[49m\n",
      "File \u001b[0;32m~/.local/lib/micromamba/envs/rs-wrapper/lib/python3.10/site-packages/stable_baselines3/ppo/ppo.py:311\u001b[0m, in \u001b[0;36mPPO.learn\u001b[0;34m(self, total_timesteps, callback, log_interval, tb_log_name, reset_num_timesteps, progress_bar)\u001b[0m\n\u001b[1;32m    302\u001b[0m \u001b[38;5;28;01mdef\u001b[39;00m\u001b[38;5;250m \u001b[39m\u001b[38;5;21mlearn\u001b[39m(\n\u001b[1;32m    303\u001b[0m     \u001b[38;5;28mself\u001b[39m: SelfPPO,\n\u001b[1;32m    304\u001b[0m     total_timesteps: \u001b[38;5;28mint\u001b[39m,\n\u001b[0;32m   (...)\u001b[0m\n\u001b[1;32m    309\u001b[0m     progress_bar: \u001b[38;5;28mbool\u001b[39m \u001b[38;5;241m=\u001b[39m \u001b[38;5;28;01mFalse\u001b[39;00m,\n\u001b[1;32m    310\u001b[0m ) \u001b[38;5;241m-\u001b[39m\u001b[38;5;241m>\u001b[39m SelfPPO:\n\u001b[0;32m--> 311\u001b[0m     \u001b[38;5;28;01mreturn\u001b[39;00m \u001b[38;5;28;43msuper\u001b[39;49m\u001b[43m(\u001b[49m\u001b[43m)\u001b[49m\u001b[38;5;241;43m.\u001b[39;49m\u001b[43mlearn\u001b[49m\u001b[43m(\u001b[49m\n\u001b[1;32m    312\u001b[0m \u001b[43m        \u001b[49m\u001b[43mtotal_timesteps\u001b[49m\u001b[38;5;241;43m=\u001b[39;49m\u001b[43mtotal_timesteps\u001b[49m\u001b[43m,\u001b[49m\n\u001b[1;32m    313\u001b[0m \u001b[43m        \u001b[49m\u001b[43mcallback\u001b[49m\u001b[38;5;241;43m=\u001b[39;49m\u001b[43mcallback\u001b[49m\u001b[43m,\u001b[49m\n\u001b[1;32m    314\u001b[0m \u001b[43m        \u001b[49m\u001b[43mlog_interval\u001b[49m\u001b[38;5;241;43m=\u001b[39;49m\u001b[43mlog_interval\u001b[49m\u001b[43m,\u001b[49m\n\u001b[1;32m    315\u001b[0m \u001b[43m        \u001b[49m\u001b[43mtb_log_name\u001b[49m\u001b[38;5;241;43m=\u001b[39;49m\u001b[43mtb_log_name\u001b[49m\u001b[43m,\u001b[49m\n\u001b[1;32m    316\u001b[0m \u001b[43m        \u001b[49m\u001b[43mreset_num_timesteps\u001b[49m\u001b[38;5;241;43m=\u001b[39;49m\u001b[43mreset_num_timesteps\u001b[49m\u001b[43m,\u001b[49m\n\u001b[1;32m    317\u001b[0m \u001b[43m        \u001b[49m\u001b[43mprogress_bar\u001b[49m\u001b[38;5;241;43m=\u001b[39;49m\u001b[43mprogress_bar\u001b[49m\u001b[43m,\u001b[49m\n\u001b[1;32m    318\u001b[0m \u001b[43m    \u001b[49m\u001b[43m)\u001b[49m\n",
      "File \u001b[0;32m~/.local/lib/micromamba/envs/rs-wrapper/lib/python3.10/site-packages/stable_baselines3/common/on_policy_algorithm.py:324\u001b[0m, in \u001b[0;36mOnPolicyAlgorithm.learn\u001b[0;34m(self, total_timesteps, callback, log_interval, tb_log_name, reset_num_timesteps, progress_bar)\u001b[0m\n\u001b[1;32m    321\u001b[0m \u001b[38;5;28;01massert\u001b[39;00m \u001b[38;5;28mself\u001b[39m\u001b[38;5;241m.\u001b[39menv \u001b[38;5;129;01mis\u001b[39;00m \u001b[38;5;129;01mnot\u001b[39;00m \u001b[38;5;28;01mNone\u001b[39;00m\n\u001b[1;32m    323\u001b[0m \u001b[38;5;28;01mwhile\u001b[39;00m \u001b[38;5;28mself\u001b[39m\u001b[38;5;241m.\u001b[39mnum_timesteps \u001b[38;5;241m<\u001b[39m total_timesteps:\n\u001b[0;32m--> 324\u001b[0m     continue_training \u001b[38;5;241m=\u001b[39m \u001b[38;5;28;43mself\u001b[39;49m\u001b[38;5;241;43m.\u001b[39;49m\u001b[43mcollect_rollouts\u001b[49m\u001b[43m(\u001b[49m\u001b[38;5;28;43mself\u001b[39;49m\u001b[38;5;241;43m.\u001b[39;49m\u001b[43menv\u001b[49m\u001b[43m,\u001b[49m\u001b[43m \u001b[49m\u001b[43mcallback\u001b[49m\u001b[43m,\u001b[49m\u001b[43m \u001b[49m\u001b[38;5;28;43mself\u001b[39;49m\u001b[38;5;241;43m.\u001b[39;49m\u001b[43mrollout_buffer\u001b[49m\u001b[43m,\u001b[49m\u001b[43m \u001b[49m\u001b[43mn_rollout_steps\u001b[49m\u001b[38;5;241;43m=\u001b[39;49m\u001b[38;5;28;43mself\u001b[39;49m\u001b[38;5;241;43m.\u001b[39;49m\u001b[43mn_steps\u001b[49m\u001b[43m)\u001b[49m\n\u001b[1;32m    326\u001b[0m     \u001b[38;5;28;01mif\u001b[39;00m \u001b[38;5;129;01mnot\u001b[39;00m continue_training:\n\u001b[1;32m    327\u001b[0m         \u001b[38;5;28;01mbreak\u001b[39;00m\n",
      "File \u001b[0;32m~/.local/lib/micromamba/envs/rs-wrapper/lib/python3.10/site-packages/stable_baselines3/common/on_policy_algorithm.py:202\u001b[0m, in \u001b[0;36mOnPolicyAlgorithm.collect_rollouts\u001b[0;34m(self, env, callback, rollout_buffer, n_rollout_steps)\u001b[0m\n\u001b[1;32m    199\u001b[0m \u001b[38;5;28;01mwith\u001b[39;00m th\u001b[38;5;241m.\u001b[39mno_grad():\n\u001b[1;32m    200\u001b[0m     \u001b[38;5;66;03m# Convert to pytorch tensor or to TensorDict\u001b[39;00m\n\u001b[1;32m    201\u001b[0m     obs_tensor \u001b[38;5;241m=\u001b[39m obs_as_tensor(\u001b[38;5;28mself\u001b[39m\u001b[38;5;241m.\u001b[39m_last_obs, \u001b[38;5;28mself\u001b[39m\u001b[38;5;241m.\u001b[39mdevice)\n\u001b[0;32m--> 202\u001b[0m     actions, values, log_probs \u001b[38;5;241m=\u001b[39m \u001b[38;5;28;43mself\u001b[39;49m\u001b[38;5;241;43m.\u001b[39;49m\u001b[43mpolicy\u001b[49m\u001b[43m(\u001b[49m\u001b[43mobs_tensor\u001b[49m\u001b[43m)\u001b[49m\n\u001b[1;32m    203\u001b[0m actions \u001b[38;5;241m=\u001b[39m actions\u001b[38;5;241m.\u001b[39mcpu()\u001b[38;5;241m.\u001b[39mnumpy()\n\u001b[1;32m    205\u001b[0m \u001b[38;5;66;03m# Rescale and perform action\u001b[39;00m\n",
      "File \u001b[0;32m~/.local/lib/micromamba/envs/rs-wrapper/lib/python3.10/site-packages/torch/nn/modules/module.py:1751\u001b[0m, in \u001b[0;36mModule._wrapped_call_impl\u001b[0;34m(self, *args, **kwargs)\u001b[0m\n\u001b[1;32m   1749\u001b[0m     \u001b[38;5;28;01mreturn\u001b[39;00m \u001b[38;5;28mself\u001b[39m\u001b[38;5;241m.\u001b[39m_compiled_call_impl(\u001b[38;5;241m*\u001b[39margs, \u001b[38;5;241m*\u001b[39m\u001b[38;5;241m*\u001b[39mkwargs)  \u001b[38;5;66;03m# type: ignore[misc]\u001b[39;00m\n\u001b[1;32m   1750\u001b[0m \u001b[38;5;28;01melse\u001b[39;00m:\n\u001b[0;32m-> 1751\u001b[0m     \u001b[38;5;28;01mreturn\u001b[39;00m \u001b[38;5;28;43mself\u001b[39;49m\u001b[38;5;241;43m.\u001b[39;49m\u001b[43m_call_impl\u001b[49m\u001b[43m(\u001b[49m\u001b[38;5;241;43m*\u001b[39;49m\u001b[43margs\u001b[49m\u001b[43m,\u001b[49m\u001b[43m \u001b[49m\u001b[38;5;241;43m*\u001b[39;49m\u001b[38;5;241;43m*\u001b[39;49m\u001b[43mkwargs\u001b[49m\u001b[43m)\u001b[49m\n",
      "File \u001b[0;32m~/.local/lib/micromamba/envs/rs-wrapper/lib/python3.10/site-packages/torch/nn/modules/module.py:1762\u001b[0m, in \u001b[0;36mModule._call_impl\u001b[0;34m(self, *args, **kwargs)\u001b[0m\n\u001b[1;32m   1757\u001b[0m \u001b[38;5;66;03m# If we don't have any hooks, we want to skip the rest of the logic in\u001b[39;00m\n\u001b[1;32m   1758\u001b[0m \u001b[38;5;66;03m# this function, and just call forward.\u001b[39;00m\n\u001b[1;32m   1759\u001b[0m \u001b[38;5;28;01mif\u001b[39;00m \u001b[38;5;129;01mnot\u001b[39;00m (\u001b[38;5;28mself\u001b[39m\u001b[38;5;241m.\u001b[39m_backward_hooks \u001b[38;5;129;01mor\u001b[39;00m \u001b[38;5;28mself\u001b[39m\u001b[38;5;241m.\u001b[39m_backward_pre_hooks \u001b[38;5;129;01mor\u001b[39;00m \u001b[38;5;28mself\u001b[39m\u001b[38;5;241m.\u001b[39m_forward_hooks \u001b[38;5;129;01mor\u001b[39;00m \u001b[38;5;28mself\u001b[39m\u001b[38;5;241m.\u001b[39m_forward_pre_hooks\n\u001b[1;32m   1760\u001b[0m         \u001b[38;5;129;01mor\u001b[39;00m _global_backward_pre_hooks \u001b[38;5;129;01mor\u001b[39;00m _global_backward_hooks\n\u001b[1;32m   1761\u001b[0m         \u001b[38;5;129;01mor\u001b[39;00m _global_forward_hooks \u001b[38;5;129;01mor\u001b[39;00m _global_forward_pre_hooks):\n\u001b[0;32m-> 1762\u001b[0m     \u001b[38;5;28;01mreturn\u001b[39;00m \u001b[43mforward_call\u001b[49m\u001b[43m(\u001b[49m\u001b[38;5;241;43m*\u001b[39;49m\u001b[43margs\u001b[49m\u001b[43m,\u001b[49m\u001b[43m \u001b[49m\u001b[38;5;241;43m*\u001b[39;49m\u001b[38;5;241;43m*\u001b[39;49m\u001b[43mkwargs\u001b[49m\u001b[43m)\u001b[49m\n\u001b[1;32m   1764\u001b[0m result \u001b[38;5;241m=\u001b[39m \u001b[38;5;28;01mNone\u001b[39;00m\n\u001b[1;32m   1765\u001b[0m called_always_called_hooks \u001b[38;5;241m=\u001b[39m \u001b[38;5;28mset\u001b[39m()\n",
      "File \u001b[0;32m~/.local/lib/micromamba/envs/rs-wrapper/lib/python3.10/site-packages/stable_baselines3/common/policies.py:656\u001b[0m, in \u001b[0;36mActorCriticPolicy.forward\u001b[0;34m(self, obs, deterministic)\u001b[0m\n\u001b[1;32m    654\u001b[0m distribution \u001b[38;5;241m=\u001b[39m \u001b[38;5;28mself\u001b[39m\u001b[38;5;241m.\u001b[39m_get_action_dist_from_latent(latent_pi)\n\u001b[1;32m    655\u001b[0m actions \u001b[38;5;241m=\u001b[39m distribution\u001b[38;5;241m.\u001b[39mget_actions(deterministic\u001b[38;5;241m=\u001b[39mdeterministic)\n\u001b[0;32m--> 656\u001b[0m log_prob \u001b[38;5;241m=\u001b[39m \u001b[43mdistribution\u001b[49m\u001b[38;5;241;43m.\u001b[39;49m\u001b[43mlog_prob\u001b[49m\u001b[43m(\u001b[49m\u001b[43mactions\u001b[49m\u001b[43m)\u001b[49m\n\u001b[1;32m    657\u001b[0m actions \u001b[38;5;241m=\u001b[39m actions\u001b[38;5;241m.\u001b[39mreshape((\u001b[38;5;241m-\u001b[39m\u001b[38;5;241m1\u001b[39m, \u001b[38;5;241m*\u001b[39m\u001b[38;5;28mself\u001b[39m\u001b[38;5;241m.\u001b[39maction_space\u001b[38;5;241m.\u001b[39mshape))  \u001b[38;5;66;03m# type: ignore[misc]\u001b[39;00m\n\u001b[1;32m    658\u001b[0m \u001b[38;5;28;01mreturn\u001b[39;00m actions, values, log_prob\n",
      "File \u001b[0;32m~/.local/lib/micromamba/envs/rs-wrapper/lib/python3.10/site-packages/stable_baselines3/common/distributions.py:175\u001b[0m, in \u001b[0;36mDiagGaussianDistribution.log_prob\u001b[0;34m(self, actions)\u001b[0m\n\u001b[1;32m    167\u001b[0m \u001b[38;5;28;01mdef\u001b[39;00m\u001b[38;5;250m \u001b[39m\u001b[38;5;21mlog_prob\u001b[39m(\u001b[38;5;28mself\u001b[39m, actions: th\u001b[38;5;241m.\u001b[39mTensor) \u001b[38;5;241m-\u001b[39m\u001b[38;5;241m>\u001b[39m th\u001b[38;5;241m.\u001b[39mTensor:\n\u001b[1;32m    168\u001b[0m \u001b[38;5;250m    \u001b[39m\u001b[38;5;124;03m\"\"\"\u001b[39;00m\n\u001b[1;32m    169\u001b[0m \u001b[38;5;124;03m    Get the log probabilities of actions according to the distribution.\u001b[39;00m\n\u001b[1;32m    170\u001b[0m \u001b[38;5;124;03m    Note that you must first call the ``proba_distribution()`` method.\u001b[39;00m\n\u001b[0;32m   (...)\u001b[0m\n\u001b[1;32m    173\u001b[0m \u001b[38;5;124;03m    :return:\u001b[39;00m\n\u001b[1;32m    174\u001b[0m \u001b[38;5;124;03m    \"\"\"\u001b[39;00m\n\u001b[0;32m--> 175\u001b[0m     log_prob \u001b[38;5;241m=\u001b[39m \u001b[38;5;28;43mself\u001b[39;49m\u001b[38;5;241;43m.\u001b[39;49m\u001b[43mdistribution\u001b[49m\u001b[38;5;241;43m.\u001b[39;49m\u001b[43mlog_prob\u001b[49m\u001b[43m(\u001b[49m\u001b[43mactions\u001b[49m\u001b[43m)\u001b[49m\n\u001b[1;32m    176\u001b[0m     \u001b[38;5;28;01mreturn\u001b[39;00m sum_independent_dims(log_prob)\n",
      "File \u001b[0;32m~/.local/lib/micromamba/envs/rs-wrapper/lib/python3.10/site-packages/torch/distributions/normal.py:85\u001b[0m, in \u001b[0;36mNormal.log_prob\u001b[0;34m(self, value)\u001b[0m\n\u001b[1;32m     83\u001b[0m     \u001b[38;5;28mself\u001b[39m\u001b[38;5;241m.\u001b[39m_validate_sample(value)\n\u001b[1;32m     84\u001b[0m \u001b[38;5;66;03m# compute the variance\u001b[39;00m\n\u001b[0;32m---> 85\u001b[0m var \u001b[38;5;241m=\u001b[39m \u001b[38;5;28;43mself\u001b[39;49m\u001b[38;5;241;43m.\u001b[39;49m\u001b[43mscale\u001b[49m\u001b[38;5;241;43m*\u001b[39;49m\u001b[38;5;241;43m*\u001b[39;49m\u001b[38;5;241;43m2\u001b[39;49m\n\u001b[1;32m     86\u001b[0m log_scale \u001b[38;5;241m=\u001b[39m (\n\u001b[1;32m     87\u001b[0m     math\u001b[38;5;241m.\u001b[39mlog(\u001b[38;5;28mself\u001b[39m\u001b[38;5;241m.\u001b[39mscale)\n\u001b[1;32m     88\u001b[0m     \u001b[38;5;28;01mif\u001b[39;00m \u001b[38;5;28misinstance\u001b[39m(\u001b[38;5;28mself\u001b[39m\u001b[38;5;241m.\u001b[39mscale, _Number)\n\u001b[1;32m     89\u001b[0m     \u001b[38;5;28;01melse\u001b[39;00m \u001b[38;5;28mself\u001b[39m\u001b[38;5;241m.\u001b[39mscale\u001b[38;5;241m.\u001b[39mlog()\n\u001b[1;32m     90\u001b[0m )\n\u001b[1;32m     91\u001b[0m \u001b[38;5;28;01mreturn\u001b[39;00m (\n\u001b[1;32m     92\u001b[0m     \u001b[38;5;241m-\u001b[39m((value \u001b[38;5;241m-\u001b[39m \u001b[38;5;28mself\u001b[39m\u001b[38;5;241m.\u001b[39mloc) \u001b[38;5;241m*\u001b[39m\u001b[38;5;241m*\u001b[39m \u001b[38;5;241m2\u001b[39m) \u001b[38;5;241m/\u001b[39m (\u001b[38;5;241m2\u001b[39m \u001b[38;5;241m*\u001b[39m var)\n\u001b[1;32m     93\u001b[0m     \u001b[38;5;241m-\u001b[39m log_scale\n\u001b[1;32m     94\u001b[0m     \u001b[38;5;241m-\u001b[39m math\u001b[38;5;241m.\u001b[39mlog(math\u001b[38;5;241m.\u001b[39msqrt(\u001b[38;5;241m2\u001b[39m \u001b[38;5;241m*\u001b[39m math\u001b[38;5;241m.\u001b[39mpi))\n\u001b[1;32m     95\u001b[0m )\n",
      "File \u001b[0;32m~/.local/lib/micromamba/envs/rs-wrapper/lib/python3.10/site-packages/torch/_tensor.py:37\u001b[0m, in \u001b[0;36m_handle_torch_function_and_wrap_type_error_to_not_implemented.<locals>.wrapped\u001b[0;34m(*args, **kwargs)\u001b[0m\n\u001b[1;32m     33\u001b[0m \u001b[38;5;129m@functools\u001b[39m\u001b[38;5;241m.\u001b[39mwraps(f, assigned\u001b[38;5;241m=\u001b[39massigned)\n\u001b[1;32m     34\u001b[0m \u001b[38;5;28;01mdef\u001b[39;00m\u001b[38;5;250m \u001b[39m\u001b[38;5;21mwrapped\u001b[39m(\u001b[38;5;241m*\u001b[39margs, \u001b[38;5;241m*\u001b[39m\u001b[38;5;241m*\u001b[39mkwargs):\n\u001b[1;32m     35\u001b[0m     \u001b[38;5;28;01mtry\u001b[39;00m:\n\u001b[1;32m     36\u001b[0m         \u001b[38;5;66;03m# See https://github.com/pytorch/pytorch/issues/75462\u001b[39;00m\n\u001b[0;32m---> 37\u001b[0m         \u001b[38;5;28;01mif\u001b[39;00m \u001b[43mhas_torch_function\u001b[49m\u001b[43m(\u001b[49m\u001b[43margs\u001b[49m\u001b[43m)\u001b[49m:\n\u001b[1;32m     38\u001b[0m             \u001b[38;5;28;01mreturn\u001b[39;00m handle_torch_function(wrapped, args, \u001b[38;5;241m*\u001b[39margs, \u001b[38;5;241m*\u001b[39m\u001b[38;5;241m*\u001b[39mkwargs)\n\u001b[1;32m     39\u001b[0m         \u001b[38;5;28;01mreturn\u001b[39;00m f(\u001b[38;5;241m*\u001b[39margs, \u001b[38;5;241m*\u001b[39m\u001b[38;5;241m*\u001b[39mkwargs)\n",
      "\u001b[0;31mKeyboardInterrupt\u001b[0m: "
     ]
    }
   ],
   "source": [
    "callback = EvalCheckpointCallback(\n",
    "    env=env,\n",
    "    save_freq=10000,\n",
    "    save_path=exp_dir,\n",
    "    n_eval_episodes=1000,\n",
    "    verbose=1,\n",
    ")\n",
    "\n",
    "agent = PPO(\"MlpPolicy\", env).learn(100000, callback=callback)"
   ]
  },
  {
   "cell_type": "code",
   "execution_count": null,
   "id": "fd943155",
   "metadata": {},
   "outputs": [],
   "source": [
    "print(agent.device)"
   ]
  },
  {
   "cell_type": "code",
   "execution_count": 16,
   "id": "91938cd9",
   "metadata": {},
   "outputs": [
    {
     "name": "stdout",
     "output_type": "stream",
     "text": [
      "(1,)\n",
      "(64, 9)\n",
      "(64,)\n",
      "(64, 64)\n",
      "(64,)\n",
      "(64, 9)\n",
      "(64,)\n",
      "(64, 64)\n",
      "(64,)\n",
      "(1, 64)\n",
      "(1,)\n",
      "(1, 64)\n",
      "(1,)\n"
     ]
    }
   ],
   "source": [
    "agent = PPO(\"MlpPolicy\", env)\n",
    "agent_wrapper = SB3Wrapper(agent.load(exp_dir / \"best_model.zip\"))\n",
    "for weight in agent_wrapper.get_weights():\n",
    "    print(weight.shape)"
   ]
  },
  {
   "cell_type": "code",
   "execution_count": 19,
   "id": "1f7b1286",
   "metadata": {},
   "outputs": [],
   "source": [
    "rollout_kwargs = {\"env\": env, \"n_eval_steps\": 1000, \"n_episodes\": 5}\n",
    "surface = agent_wrapper.compute_surface(rollout_kwargs, grid_size=25)"
   ]
  },
  {
   "cell_type": "code",
   "execution_count": 20,
   "id": "4ea4f3b5",
   "metadata": {},
   "outputs": [
    {
     "data": {
      "application/vnd.plotly.v1+json": {
       "config": {
        "plotlyServerURL": "https://plot.ly"
       },
       "data": [
        {
         "colorscale": [
          [
           0,
           "rgb(5,48,97)"
          ],
          [
           0.1,
           "rgb(33,102,172)"
          ],
          [
           0.2,
           "rgb(67,147,195)"
          ],
          [
           0.3,
           "rgb(146,197,222)"
          ],
          [
           0.4,
           "rgb(209,229,240)"
          ],
          [
           0.5,
           "rgb(247,247,247)"
          ],
          [
           0.6,
           "rgb(253,219,199)"
          ],
          [
           0.7,
           "rgb(244,165,130)"
          ],
          [
           0.8,
           "rgb(214,96,77)"
          ],
          [
           0.9,
           "rgb(178,24,43)"
          ],
          [
           1,
           "rgb(103,0,31)"
          ]
         ],
         "hoverlabel": {
          "bgcolor": "rgba(255, 255, 255, 0.9)",
          "font": {
           "color": "black"
          }
         },
         "hovertemplate": "<b>Z %{z:.2f}</b> <br>X %{x:.2f}</br>Y %{y:.2f} <extra></extra>",
         "type": "surface",
         "x": {
          "bdata": "AAAAAAAA8L9VVVVVVVXtv6uqqqqqquq/AAAAAAAA6L9VVVVVVVXlv6uqqqqqquK/AAAAAAAA4L+rqqqqqqrav1VVVVVVVdW/AAAAAAAA0L9VVVVVVVXFv1VVVVVVVbW/AAAAAAAAAABVVVVVVVW1P1VVVVVVVcU/AAAAAAAA0D9VVVVVVVXVP6uqqqqqqto/AAAAAAAA4D+rqqqqqqriP1VVVVVVVeU/AAAAAAAA6D+rqqqqqqrqP1VVVVVVVe0/AAAAAAAA8D8=",
          "dtype": "f8"
         },
         "y": {
          "bdata": "AAAAAAAA8L9VVVVVVVXtv6uqqqqqquq/AAAAAAAA6L9VVVVVVVXlv6uqqqqqquK/AAAAAAAA4L+rqqqqqqrav1VVVVVVVdW/AAAAAAAA0L9VVVVVVVXFv1VVVVVVVbW/AAAAAAAAAABVVVVVVVW1P1VVVVVVVcU/AAAAAAAA0D9VVVVVVVXVP6uqqqqqqto/AAAAAAAA4D+rqqqqqqriP1VVVVVVVeU/AAAAAAAA6D+rqqqqqqrqP1VVVVVVVe0/AAAAAAAA8D8=",
          "dtype": "f8"
         },
         "z": {
          "bdata": "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",
          "dtype": "f8",
          "shape": "25, 25"
         }
        }
       ],
       "layout": {
        "height": 400,
        "margin": {
         "b": 5,
         "l": 5,
         "r": 5,
         "t": 5
        },
        "scene": {
         "aspectratio": {
          "x": 1,
          "y": 1,
          "z": 0.5
         }
        },
        "template": {
         "data": {
          "bar": [
           {
            "error_x": {
             "color": "#2a3f5f"
            },
            "error_y": {
             "color": "#2a3f5f"
            },
            "marker": {
             "line": {
              "color": "#E5ECF6",
              "width": 0.5
             },
             "pattern": {
              "fillmode": "overlay",
              "size": 10,
              "solidity": 0.2
             }
            },
            "type": "bar"
           }
          ],
          "barpolar": [
           {
            "marker": {
             "line": {
              "color": "#E5ECF6",
              "width": 0.5
             },
             "pattern": {
              "fillmode": "overlay",
              "size": 10,
              "solidity": 0.2
             }
            },
            "type": "barpolar"
           }
          ],
          "carpet": [
           {
            "aaxis": {
             "endlinecolor": "#2a3f5f",
             "gridcolor": "white",
             "linecolor": "white",
             "minorgridcolor": "white",
             "startlinecolor": "#2a3f5f"
            },
            "baxis": {
             "endlinecolor": "#2a3f5f",
             "gridcolor": "white",
             "linecolor": "white",
             "minorgridcolor": "white",
             "startlinecolor": "#2a3f5f"
            },
            "type": "carpet"
           }
          ],
          "choropleth": [
           {
            "colorbar": {
             "outlinewidth": 0,
             "ticks": ""
            },
            "type": "choropleth"
           }
          ],
          "contour": [
           {
            "colorbar": {
             "outlinewidth": 0,
             "ticks": ""
            },
            "colorscale": [
             [
              0,
              "#0d0887"
             ],
             [
              0.1111111111111111,
              "#46039f"
             ],
             [
              0.2222222222222222,
              "#7201a8"
             ],
             [
              0.3333333333333333,
              "#9c179e"
             ],
             [
              0.4444444444444444,
              "#bd3786"
             ],
             [
              0.5555555555555556,
              "#d8576b"
             ],
             [
              0.6666666666666666,
              "#ed7953"
             ],
             [
              0.7777777777777778,
              "#fb9f3a"
             ],
             [
              0.8888888888888888,
              "#fdca26"
             ],
             [
              1,
              "#f0f921"
             ]
            ],
            "type": "contour"
           }
          ],
          "contourcarpet": [
           {
            "colorbar": {
             "outlinewidth": 0,
             "ticks": ""
            },
            "type": "contourcarpet"
           }
          ],
          "heatmap": [
           {
            "colorbar": {
             "outlinewidth": 0,
             "ticks": ""
            },
            "colorscale": [
             [
              0,
              "#0d0887"
             ],
             [
              0.1111111111111111,
              "#46039f"
             ],
             [
              0.2222222222222222,
              "#7201a8"
             ],
             [
              0.3333333333333333,
              "#9c179e"
             ],
             [
              0.4444444444444444,
              "#bd3786"
             ],
             [
              0.5555555555555556,
              "#d8576b"
             ],
             [
              0.6666666666666666,
              "#ed7953"
             ],
             [
              0.7777777777777778,
              "#fb9f3a"
             ],
             [
              0.8888888888888888,
              "#fdca26"
             ],
             [
              1,
              "#f0f921"
             ]
            ],
            "type": "heatmap"
           }
          ],
          "histogram": [
           {
            "marker": {
             "pattern": {
              "fillmode": "overlay",
              "size": 10,
              "solidity": 0.2
             }
            },
            "type": "histogram"
           }
          ],
          "histogram2d": [
           {
            "colorbar": {
             "outlinewidth": 0,
             "ticks": ""
            },
            "colorscale": [
             [
              0,
              "#0d0887"
             ],
             [
              0.1111111111111111,
              "#46039f"
             ],
             [
              0.2222222222222222,
              "#7201a8"
             ],
             [
              0.3333333333333333,
              "#9c179e"
             ],
             [
              0.4444444444444444,
              "#bd3786"
             ],
             [
              0.5555555555555556,
              "#d8576b"
             ],
             [
              0.6666666666666666,
              "#ed7953"
             ],
             [
              0.7777777777777778,
              "#fb9f3a"
             ],
             [
              0.8888888888888888,
              "#fdca26"
             ],
             [
              1,
              "#f0f921"
             ]
            ],
            "type": "histogram2d"
           }
          ],
          "histogram2dcontour": [
           {
            "colorbar": {
             "outlinewidth": 0,
             "ticks": ""
            },
            "colorscale": [
             [
              0,
              "#0d0887"
             ],
             [
              0.1111111111111111,
              "#46039f"
             ],
             [
              0.2222222222222222,
              "#7201a8"
             ],
             [
              0.3333333333333333,
              "#9c179e"
             ],
             [
              0.4444444444444444,
              "#bd3786"
             ],
             [
              0.5555555555555556,
              "#d8576b"
             ],
             [
              0.6666666666666666,
              "#ed7953"
             ],
             [
              0.7777777777777778,
              "#fb9f3a"
             ],
             [
              0.8888888888888888,
              "#fdca26"
             ],
             [
              1,
              "#f0f921"
             ]
            ],
            "type": "histogram2dcontour"
           }
          ],
          "mesh3d": [
           {
            "colorbar": {
             "outlinewidth": 0,
             "ticks": ""
            },
            "type": "mesh3d"
           }
          ],
          "parcoords": [
           {
            "line": {
             "colorbar": {
              "outlinewidth": 0,
              "ticks": ""
             }
            },
            "type": "parcoords"
           }
          ],
          "pie": [
           {
            "automargin": true,
            "type": "pie"
           }
          ],
          "scatter": [
           {
            "fillpattern": {
             "fillmode": "overlay",
             "size": 10,
             "solidity": 0.2
            },
            "type": "scatter"
           }
          ],
          "scatter3d": [
           {
            "line": {
             "colorbar": {
              "outlinewidth": 0,
              "ticks": ""
             }
            },
            "marker": {
             "colorbar": {
              "outlinewidth": 0,
              "ticks": ""
             }
            },
            "type": "scatter3d"
           }
          ],
          "scattercarpet": [
           {
            "marker": {
             "colorbar": {
              "outlinewidth": 0,
              "ticks": ""
             }
            },
            "type": "scattercarpet"
           }
          ],
          "scattergeo": [
           {
            "marker": {
             "colorbar": {
              "outlinewidth": 0,
              "ticks": ""
             }
            },
            "type": "scattergeo"
           }
          ],
          "scattergl": [
           {
            "marker": {
             "colorbar": {
              "outlinewidth": 0,
              "ticks": ""
             }
            },
            "type": "scattergl"
           }
          ],
          "scattermap": [
           {
            "marker": {
             "colorbar": {
              "outlinewidth": 0,
              "ticks": ""
             }
            },
            "type": "scattermap"
           }
          ],
          "scattermapbox": [
           {
            "marker": {
             "colorbar": {
              "outlinewidth": 0,
              "ticks": ""
             }
            },
            "type": "scattermapbox"
           }
          ],
          "scatterpolar": [
           {
            "marker": {
             "colorbar": {
              "outlinewidth": 0,
              "ticks": ""
             }
            },
            "type": "scatterpolar"
           }
          ],
          "scatterpolargl": [
           {
            "marker": {
             "colorbar": {
              "outlinewidth": 0,
              "ticks": ""
             }
            },
            "type": "scatterpolargl"
           }
          ],
          "scatterternary": [
           {
            "marker": {
             "colorbar": {
              "outlinewidth": 0,
              "ticks": ""
             }
            },
            "type": "scatterternary"
           }
          ],
          "surface": [
           {
            "colorbar": {
             "outlinewidth": 0,
             "ticks": ""
            },
            "colorscale": [
             [
              0,
              "#0d0887"
             ],
             [
              0.1111111111111111,
              "#46039f"
             ],
             [
              0.2222222222222222,
              "#7201a8"
             ],
             [
              0.3333333333333333,
              "#9c179e"
             ],
             [
              0.4444444444444444,
              "#bd3786"
             ],
             [
              0.5555555555555556,
              "#d8576b"
             ],
             [
              0.6666666666666666,
              "#ed7953"
             ],
             [
              0.7777777777777778,
              "#fb9f3a"
             ],
             [
              0.8888888888888888,
              "#fdca26"
             ],
             [
              1,
              "#f0f921"
             ]
            ],
            "type": "surface"
           }
          ],
          "table": [
           {
            "cells": {
             "fill": {
              "color": "#EBF0F8"
             },
             "line": {
              "color": "white"
             }
            },
            "header": {
             "fill": {
              "color": "#C8D4E3"
             },
             "line": {
              "color": "white"
             }
            },
            "type": "table"
           }
          ]
         },
         "layout": {
          "annotationdefaults": {
           "arrowcolor": "#2a3f5f",
           "arrowhead": 0,
           "arrowwidth": 1
          },
          "autotypenumbers": "strict",
          "coloraxis": {
           "colorbar": {
            "outlinewidth": 0,
            "ticks": ""
           }
          },
          "colorscale": {
           "diverging": [
            [
             0,
             "#8e0152"
            ],
            [
             0.1,
             "#c51b7d"
            ],
            [
             0.2,
             "#de77ae"
            ],
            [
             0.3,
             "#f1b6da"
            ],
            [
             0.4,
             "#fde0ef"
            ],
            [
             0.5,
             "#f7f7f7"
            ],
            [
             0.6,
             "#e6f5d0"
            ],
            [
             0.7,
             "#b8e186"
            ],
            [
             0.8,
             "#7fbc41"
            ],
            [
             0.9,
             "#4d9221"
            ],
            [
             1,
             "#276419"
            ]
           ],
           "sequential": [
            [
             0,
             "#0d0887"
            ],
            [
             0.1111111111111111,
             "#46039f"
            ],
            [
             0.2222222222222222,
             "#7201a8"
            ],
            [
             0.3333333333333333,
             "#9c179e"
            ],
            [
             0.4444444444444444,
             "#bd3786"
            ],
            [
             0.5555555555555556,
             "#d8576b"
            ],
            [
             0.6666666666666666,
             "#ed7953"
            ],
            [
             0.7777777777777778,
             "#fb9f3a"
            ],
            [
             0.8888888888888888,
             "#fdca26"
            ],
            [
             1,
             "#f0f921"
            ]
           ],
           "sequentialminus": [
            [
             0,
             "#0d0887"
            ],
            [
             0.1111111111111111,
             "#46039f"
            ],
            [
             0.2222222222222222,
             "#7201a8"
            ],
            [
             0.3333333333333333,
             "#9c179e"
            ],
            [
             0.4444444444444444,
             "#bd3786"
            ],
            [
             0.5555555555555556,
             "#d8576b"
            ],
            [
             0.6666666666666666,
             "#ed7953"
            ],
            [
             0.7777777777777778,
             "#fb9f3a"
            ],
            [
             0.8888888888888888,
             "#fdca26"
            ],
            [
             1,
             "#f0f921"
            ]
           ]
          },
          "colorway": [
           "#636efa",
           "#EF553B",
           "#00cc96",
           "#ab63fa",
           "#FFA15A",
           "#19d3f3",
           "#FF6692",
           "#B6E880",
           "#FF97FF",
           "#FECB52"
          ],
          "font": {
           "color": "#2a3f5f"
          },
          "geo": {
           "bgcolor": "white",
           "lakecolor": "white",
           "landcolor": "#E5ECF6",
           "showlakes": true,
           "showland": true,
           "subunitcolor": "white"
          },
          "hoverlabel": {
           "align": "left"
          },
          "hovermode": "closest",
          "mapbox": {
           "style": "light"
          },
          "paper_bgcolor": "white",
          "plot_bgcolor": "#E5ECF6",
          "polar": {
           "angularaxis": {
            "gridcolor": "white",
            "linecolor": "white",
            "ticks": ""
           },
           "bgcolor": "#E5ECF6",
           "radialaxis": {
            "gridcolor": "white",
            "linecolor": "white",
            "ticks": ""
           }
          },
          "scene": {
           "xaxis": {
            "backgroundcolor": "#E5ECF6",
            "gridcolor": "white",
            "gridwidth": 2,
            "linecolor": "white",
            "showbackground": true,
            "ticks": "",
            "zerolinecolor": "white"
           },
           "yaxis": {
            "backgroundcolor": "#E5ECF6",
            "gridcolor": "white",
            "gridwidth": 2,
            "linecolor": "white",
            "showbackground": true,
            "ticks": "",
            "zerolinecolor": "white"
           },
           "zaxis": {
            "backgroundcolor": "#E5ECF6",
            "gridcolor": "white",
            "gridwidth": 2,
            "linecolor": "white",
            "showbackground": true,
            "ticks": "",
            "zerolinecolor": "white"
           }
          },
          "shapedefaults": {
           "line": {
            "color": "#2a3f5f"
           }
          },
          "ternary": {
           "aaxis": {
            "gridcolor": "white",
            "linecolor": "white",
            "ticks": ""
           },
           "baxis": {
            "gridcolor": "white",
            "linecolor": "white",
            "ticks": ""
           },
           "bgcolor": "#E5ECF6",
           "caxis": {
            "gridcolor": "white",
            "linecolor": "white",
            "ticks": ""
           }
          },
          "title": {
           "x": 0.05
          },
          "xaxis": {
           "automargin": true,
           "gridcolor": "white",
           "linecolor": "white",
           "ticks": "",
           "title": {
            "standoff": 15
           },
           "zerolinecolor": "white",
           "zerolinewidth": 2
          },
          "yaxis": {
           "automargin": true,
           "gridcolor": "white",
           "linecolor": "white",
           "ticks": "",
           "title": {
            "standoff": 15
           },
           "zerolinecolor": "white",
           "zerolinewidth": 2
          }
         }
        },
        "width": 600
       }
      }
     },
     "metadata": {},
     "output_type": "display_data"
    }
   ],
   "source": [
    "import plotly.graph_objects as go\n",
    "\n",
    "hovertemplate = \"<b>Z %{z:.2f}</b> <br>X %{x:.2f}</br>Y %{y:.2f} <extra></extra>\"\n",
    "offsets = agent_wrapper.offsets\n",
    "fig = go.Figure(\n",
    "    data=[\n",
    "        go.Surface(\n",
    "            x=offsets,\n",
    "            y=offsets,\n",
    "            z=surface,\n",
    "            colorscale=\"RdBu_r\",\n",
    "            hovertemplate=hovertemplate,\n",
    "        )\n",
    "    ]\n",
    ")\n",
    "\n",
    "fig.update_traces(\n",
    "    hovertemplate=hovertemplate,\n",
    "    hoverlabel=dict(\n",
    "        bgcolor=\"rgba(255, 255, 255, 0.9)\",  # white with 70% opacity\n",
    "        font=dict(color=\"black\"),  # optional: set text color\n",
    "    ),\n",
    ")\n",
    "fig.update_layout(\n",
    "    # title=dict(text=\"Reward Surface\"),\n",
    "    # autosize=True,\n",
    "    width=600,\n",
    "    height=400,\n",
    "    margin=dict(l=5, r=5, b=5, t=5),\n",
    "    scene=dict(\n",
    "        aspectratio=dict(x=1, y=1, z=0.5),  # squeeze z axis\n",
    "    ),\n",
    ")\n",
    "\n",
    "\n",
    "fig"
   ]
  },
  {
   "cell_type": "code",
   "execution_count": 4,
   "id": "cee13e69",
   "metadata": {},
   "outputs": [
    {
     "data": {
      "text/plain": [
       "array([['AA', 'AB', 'AC', 'AD'],\n",
       "       ['BA', 'BB', 'BC', 'BD'],\n",
       "       ['CA', 'CB', 'CC', 'CD'],\n",
       "       ['DA', 'DB', 'DC', 'DD']], dtype='<U2')"
      ]
     },
     "execution_count": 4,
     "metadata": {},
     "output_type": "execute_result"
    }
   ],
   "source": [
    "import itertools\n",
    "\n",
    "test = np.array(list(\"ABCD\"))\n",
    "\n",
    "temp = list(itertools.product(test, test))\n",
    "out = list()\n",
    "for tup in temp:\n",
    "    out.append(\"\".join(tup))\n",
    "\n",
    "out = np.array(out).reshape(len(test), len(test))\n",
    "out"
   ]
  },
  {
   "cell_type": "code",
   "execution_count": 15,
   "id": "e3e57534",
   "metadata": {},
   "outputs": [
    {
     "name": "stdout",
     "output_type": "stream",
     "text": [
      "Reward at alpha=0 in loop: 752.974510702855\n"
     ]
    },
    {
     "data": {
      "text/plain": [
       "[<matplotlib.lines.Line2D at 0x7f09769cf880>]"
      ]
     },
     "execution_count": 15,
     "metadata": {},
     "output_type": "execute_result"
    },
    {
     "data": {
      "image/png": "[encoded data removed]",
      "text/plain": [
       "<Figure size 640x480 with 1 Axes>"
      ]
     },
     "metadata": {},
     "output_type": "display_data"
    }
   ],
   "source": [
    "from wrapper.utils import initialize_directions\n",
    "import matplotlib.pyplot as plt\n",
    "\n",
    "alphas = np.linspace(-1.0, 1.0, 21)\n",
    "rewards = []\n",
    "direction = initialize_directions(agent_wrapper.get_weights())[0]\n",
    "\n",
    "for alpha in alphas:\n",
    "    perturbed_weights = []\n",
    "    for p, p_dir in zip(agent_wrapper.get_weights(), direction):\n",
    "        perturbed_weights.append(p + p_dir * alpha)\n",
    "    alt = agent_wrapper.initialize(perturbed_weights)\n",
    "    reward = alt.estimate_reward(**rollout_kwargs)\n",
    "    rewards.append(reward)\n",
    "    if alpha == 0.0:\n",
    "        print(\"Reward at alpha=0 in loop:\", reward)\n",
    "\n",
    "plt.plot(alphas, rewards)"
   ]
  }
 ],
 "metadata": {
  "kernelspec": {
   "display_name": "rs-wrapper",
   "language": "python",
   "name": "python3"
  },
  "language_info": {
   "codemirror_mode": {
    "name": "ipython",
    "version": 3
   },
   "file_extension": ".py",
   "mimetype": "text/x-python",
   "name": "python",
   "nbconvert_exporter": "python",
   "pygments_lexer": "ipython3",
   "version": "3.10.18"
  }
 },
 "nbformat": 4,
 "nbformat_minor": 5
}
