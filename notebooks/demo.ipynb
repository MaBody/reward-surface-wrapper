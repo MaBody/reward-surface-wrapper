{
 "cells": [
  {
   "cell_type": "code",
   "execution_count": null,
   "id": "d690b9cd",
   "metadata": {},
   "outputs": [],
   "source": [
    "from stable_baselines import PPO2\n",
    "\n",
    "model = PPO2(\"MlpPolicy\", \"CartPole-v1\").learn(10000)"
   ]
  }
 ],
 "metadata": {
  "kernelspec": {
   "display_name": "rs-wrapper",
   "language": "python",
   "name": "python3"
  },
  "language_info": {
   "name": "python",
   "version": "3.13.5"
  }
 },
 "nbformat": 4,
 "nbformat_minor": 5
}
